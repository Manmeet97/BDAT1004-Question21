{
 "cells": [
  {
   "cell_type": "code",
   "execution_count": 2,
   "id": "f49b054e-875d-4b8a-8263-7a01eb74c56c",
   "metadata": {},
   "outputs": [
    {
     "name": "stdout",
     "output_type": "stream",
     "text": [
      "Qpubup\n",
      "K nqxg DFCV!\n"
     ]
    }
   ],
   "source": [
    "def caesar(phrase, shift):\n",
    "    def shift_char(char, shift):\n",
    "        if char.isalpha():\n",
    "            offset = ord('a') if char.islower() else ord('A')\n",
    "            return chr((ord(char) - offset + shift) % 26 + offset)\n",
    "        return char\n",
    "\n",
    "    if not phrase:\n",
    "        return \"\"\n",
    "\n",
    "    return shift_char(phrase[0], shift) + caesar(phrase[1:], shift)\n",
    "\n",
    "# Test cases\n",
    "print(caesar(\"Potato\", 1))  # Output: Qpubup\n",
    "print(caesar(\"I love BDAT!\", 2))  # Output: K nqxg DFCV!\n"
   ]
  },
  {
   "cell_type": "code",
   "execution_count": null,
   "id": "1384c7c7-130f-42d3-afc8-e8f7519e0f4a",
   "metadata": {},
   "outputs": [],
   "source": []
  }
 ],
 "metadata": {
  "kernelspec": {
   "display_name": "Python 3 (ipykernel)",
   "language": "python",
   "name": "python3"
  },
  "language_info": {
   "codemirror_mode": {
    "name": "ipython",
    "version": 3
   },
   "file_extension": ".py",
   "mimetype": "text/x-python",
   "name": "python",
   "nbconvert_exporter": "python",
   "pygments_lexer": "ipython3",
   "version": "3.12.2"
  }
 },
 "nbformat": 4,
 "nbformat_minor": 5
}
